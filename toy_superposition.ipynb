{
  "nbformat": 4,
  "nbformat_minor": 0,
  "metadata": {
    "colab": {
      "provenance": [],
      "machine_shape": "hm",
      "gpuType": "T4"
    },
    "kernelspec": {
      "name": "python3",
      "display_name": "Python 3"
    },
    "language_info": {
      "name": "python"
    },
    "accelerator": "GPU",
    "widgets": {
      "application/vnd.jupyter.widget-state+json": {
        "51cc29e921fb4563b77bf740c3711183": {
          "model_module": "@jupyter-widgets/controls",
          "model_name": "VBoxModel",
          "model_module_version": "1.5.0",
          "state": {
            "_dom_classes": [],
            "_model_module": "@jupyter-widgets/controls",
            "_model_module_version": "1.5.0",
            "_model_name": "VBoxModel",
            "_view_count": null,
            "_view_module": "@jupyter-widgets/controls",
            "_view_module_version": "1.5.0",
            "_view_name": "VBoxView",
            "box_style": "",
            "children": [
              "IPY_MODEL_f1c5f78005274ac5b51a819998bf0c5f",
              "IPY_MODEL_4fec26ac2230482b8c6580eeb0c956c8"
            ],
            "layout": "IPY_MODEL_ba4b458cb5ea4919a3faea21d546e76c"
          }
        },
        "f1c5f78005274ac5b51a819998bf0c5f": {
          "model_module": "@jupyter-widgets/controls",
          "model_name": "LabelModel",
          "model_module_version": "1.5.0",
          "state": {
            "_dom_classes": [],
            "_model_module": "@jupyter-widgets/controls",
            "_model_module_version": "1.5.0",
            "_model_name": "LabelModel",
            "_view_count": null,
            "_view_module": "@jupyter-widgets/controls",
            "_view_module_version": "1.5.0",
            "_view_name": "LabelView",
            "description": "",
            "description_tooltip": null,
            "layout": "IPY_MODEL_3c633abbd42e495686e27cc8569b0480",
            "placeholder": "​",
            "style": "IPY_MODEL_685b6004c0ad4e20b0797c14ce3e6bd1",
            "value": "0.014 MB of 0.014 MB uploaded\r"
          }
        },
        "4fec26ac2230482b8c6580eeb0c956c8": {
          "model_module": "@jupyter-widgets/controls",
          "model_name": "FloatProgressModel",
          "model_module_version": "1.5.0",
          "state": {
            "_dom_classes": [],
            "_model_module": "@jupyter-widgets/controls",
            "_model_module_version": "1.5.0",
            "_model_name": "FloatProgressModel",
            "_view_count": null,
            "_view_module": "@jupyter-widgets/controls",
            "_view_module_version": "1.5.0",
            "_view_name": "ProgressView",
            "bar_style": "",
            "description": "",
            "description_tooltip": null,
            "layout": "IPY_MODEL_55c0f08226af455383f338550b2ca40a",
            "max": 1,
            "min": 0,
            "orientation": "horizontal",
            "style": "IPY_MODEL_3b899d9c2cd74f2c92eef00674595a7e",
            "value": 1
          }
        },
        "ba4b458cb5ea4919a3faea21d546e76c": {
          "model_module": "@jupyter-widgets/base",
          "model_name": "LayoutModel",
          "model_module_version": "1.2.0",
          "state": {
            "_model_module": "@jupyter-widgets/base",
            "_model_module_version": "1.2.0",
            "_model_name": "LayoutModel",
            "_view_count": null,
            "_view_module": "@jupyter-widgets/base",
            "_view_module_version": "1.2.0",
            "_view_name": "LayoutView",
            "align_content": null,
            "align_items": null,
            "align_self": null,
            "border": null,
            "bottom": null,
            "display": null,
            "flex": null,
            "flex_flow": null,
            "grid_area": null,
            "grid_auto_columns": null,
            "grid_auto_flow": null,
            "grid_auto_rows": null,
            "grid_column": null,
            "grid_gap": null,
            "grid_row": null,
            "grid_template_areas": null,
            "grid_template_columns": null,
            "grid_template_rows": null,
            "height": null,
            "justify_content": null,
            "justify_items": null,
            "left": null,
            "margin": null,
            "max_height": null,
            "max_width": null,
            "min_height": null,
            "min_width": null,
            "object_fit": null,
            "object_position": null,
            "order": null,
            "overflow": null,
            "overflow_x": null,
            "overflow_y": null,
            "padding": null,
            "right": null,
            "top": null,
            "visibility": null,
            "width": null
          }
        },
        "3c633abbd42e495686e27cc8569b0480": {
          "model_module": "@jupyter-widgets/base",
          "model_name": "LayoutModel",
          "model_module_version": "1.2.0",
          "state": {
            "_model_module": "@jupyter-widgets/base",
            "_model_module_version": "1.2.0",
            "_model_name": "LayoutModel",
            "_view_count": null,
            "_view_module": "@jupyter-widgets/base",
            "_view_module_version": "1.2.0",
            "_view_name": "LayoutView",
            "align_content": null,
            "align_items": null,
            "align_self": null,
            "border": null,
            "bottom": null,
            "display": null,
            "flex": null,
            "flex_flow": null,
            "grid_area": null,
            "grid_auto_columns": null,
            "grid_auto_flow": null,
            "grid_auto_rows": null,
            "grid_column": null,
            "grid_gap": null,
            "grid_row": null,
            "grid_template_areas": null,
            "grid_template_columns": null,
            "grid_template_rows": null,
            "height": null,
            "justify_content": null,
            "justify_items": null,
            "left": null,
            "margin": null,
            "max_height": null,
            "max_width": null,
            "min_height": null,
            "min_width": null,
            "object_fit": null,
            "object_position": null,
            "order": null,
            "overflow": null,
            "overflow_x": null,
            "overflow_y": null,
            "padding": null,
            "right": null,
            "top": null,
            "visibility": null,
            "width": null
          }
        },
        "685b6004c0ad4e20b0797c14ce3e6bd1": {
          "model_module": "@jupyter-widgets/controls",
          "model_name": "DescriptionStyleModel",
          "model_module_version": "1.5.0",
          "state": {
            "_model_module": "@jupyter-widgets/controls",
            "_model_module_version": "1.5.0",
            "_model_name": "DescriptionStyleModel",
            "_view_count": null,
            "_view_module": "@jupyter-widgets/base",
            "_view_module_version": "1.2.0",
            "_view_name": "StyleView",
            "description_width": ""
          }
        },
        "55c0f08226af455383f338550b2ca40a": {
          "model_module": "@jupyter-widgets/base",
          "model_name": "LayoutModel",
          "model_module_version": "1.2.0",
          "state": {
            "_model_module": "@jupyter-widgets/base",
            "_model_module_version": "1.2.0",
            "_model_name": "LayoutModel",
            "_view_count": null,
            "_view_module": "@jupyter-widgets/base",
            "_view_module_version": "1.2.0",
            "_view_name": "LayoutView",
            "align_content": null,
            "align_items": null,
            "align_self": null,
            "border": null,
            "bottom": null,
            "display": null,
            "flex": null,
            "flex_flow": null,
            "grid_area": null,
            "grid_auto_columns": null,
            "grid_auto_flow": null,
            "grid_auto_rows": null,
            "grid_column": null,
            "grid_gap": null,
            "grid_row": null,
            "grid_template_areas": null,
            "grid_template_columns": null,
            "grid_template_rows": null,
            "height": null,
            "justify_content": null,
            "justify_items": null,
            "left": null,
            "margin": null,
            "max_height": null,
            "max_width": null,
            "min_height": null,
            "min_width": null,
            "object_fit": null,
            "object_position": null,
            "order": null,
            "overflow": null,
            "overflow_x": null,
            "overflow_y": null,
            "padding": null,
            "right": null,
            "top": null,
            "visibility": null,
            "width": null
          }
        },
        "3b899d9c2cd74f2c92eef00674595a7e": {
          "model_module": "@jupyter-widgets/controls",
          "model_name": "ProgressStyleModel",
          "model_module_version": "1.5.0",
          "state": {
            "_model_module": "@jupyter-widgets/controls",
            "_model_module_version": "1.5.0",
            "_model_name": "ProgressStyleModel",
            "_view_count": null,
            "_view_module": "@jupyter-widgets/base",
            "_view_module_version": "1.2.0",
            "_view_name": "StyleView",
            "bar_color": null,
            "description_width": ""
          }
        }
      }
    }
  },
  "cells": [
    {
      "cell_type": "code",
      "source": [
        "import wandb\n",
        "\n",
        "wandb.login()"
      ],
      "metadata": {
        "colab": {
          "base_uri": "https://localhost:8080/",
          "height": 162
        },
        "id": "uunltYdGrdMw",
        "outputId": "ff68637e-58d8-4cfe-a4f4-bfec7f5a881c"
      },
      "execution_count": null,
      "outputs": [
        {
          "metadata": {
            "tags": null
          },
          "name": "stderr",
          "output_type": "stream",
          "text": [
            "\u001b[34m\u001b[1mwandb\u001b[0m: Using wandb-core as the SDK backend. Please refer to https://wandb.me/wandb-core for more information.\n"
          ]
        },
        {
          "data": {
            "application/javascript": [
              "\n",
              "        window._wandbApiKey = new Promise((resolve, reject) => {\n",
              "            function loadScript(url) {\n",
              "            return new Promise(function(resolve, reject) {\n",
              "                let newScript = document.createElement(\"script\");\n",
              "                newScript.onerror = reject;\n",
              "                newScript.onload = resolve;\n",
              "                document.body.appendChild(newScript);\n",
              "                newScript.src = url;\n",
              "            });\n",
              "            }\n",
              "            loadScript(\"https://cdn.jsdelivr.net/npm/postmate/build/postmate.min.js\").then(() => {\n",
              "            const iframe = document.createElement('iframe')\n",
              "            iframe.style.cssText = \"width:0;height:0;border:none\"\n",
              "            document.body.appendChild(iframe)\n",
              "            const handshake = new Postmate({\n",
              "                container: iframe,\n",
              "                url: 'https://wandb.ai/authorize'\n",
              "            });\n",
              "            const timeout = setTimeout(() => reject(\"Couldn't auto authenticate\"), 5000)\n",
              "            handshake.then(function(child) {\n",
              "                child.on('authorize', data => {\n",
              "                    clearTimeout(timeout)\n",
              "                    resolve(data)\n",
              "                });\n",
              "            });\n",
              "            })\n",
              "        });\n",
              "    "
            ],
            "text/plain": [
              "<IPython.core.display.Javascript object>"
            ]
          },
          "metadata": {},
          "output_type": "display_data"
        },
        {
          "metadata": {
            "tags": null
          },
          "name": "stderr",
          "output_type": "stream",
          "text": [
            "\u001b[34m\u001b[1mwandb\u001b[0m: Logging into wandb.ai. (Learn how to deploy a W&B server locally: https://wandb.me/wandb-server)\n",
            "\u001b[34m\u001b[1mwandb\u001b[0m: You can find your API key in your browser here: https://wandb.ai/authorize\n",
            "wandb: Paste an API key from your profile and hit enter, or press ctrl+c to quit:"
          ]
        },
        {
          "name": "stdout",
          "output_type": "stream",
          "text": [
            " ··········\n"
          ]
        },
        {
          "output_type": "stream",
          "name": "stderr",
          "text": [
            "\u001b[34m\u001b[1mwandb\u001b[0m: Appending key for api.wandb.ai to your netrc file: /root/.netrc\n"
          ]
        },
        {
          "output_type": "execute_result",
          "data": {
            "text/plain": [
              "True"
            ]
          },
          "metadata": {},
          "execution_count": 47
        }
      ]
    },
    {
      "cell_type": "code",
      "execution_count": null,
      "metadata": {
        "id": "fDwDKzGRXuIE"
      },
      "outputs": [],
      "source": [
        "import torch\n",
        "import numpy as np\n",
        "\n",
        "from torch import nn\n",
        "from torch.optim import AdamW\n",
        "from torch.optim.lr_scheduler import LambdaLR\n",
        "\n",
        "device = torch.device(\"cuda\" if torch.cuda.is_available() else \"cpu\")"
      ]
    },
    {
      "cell_type": "markdown",
      "source": [
        "- `T`: number of points in the training data\n",
        "- `n`: dimension of the training data (number of features)\n",
        "- `S`: sparsity (probability that $x_i$ is 0)"
      ],
      "metadata": {
        "id": "lrDiYxQebMcV"
      }
    },
    {
      "cell_type": "code",
      "source": [
        "def generate_dataset(T: int, n: int, S: float) -> torch.Tensor:\n",
        "    assert 0 <= S <= 1, \"Sparsity must be between 0 and 1\"\n",
        "\n",
        "    dataset = torch.rand(T, n)\n",
        "    mask_threshold = torch.rand(T, n)\n",
        "    mask = mask_threshold < S\n",
        "    dataset[mask] = 0\n",
        "\n",
        "    norms = torch.norm(dataset, p=2, dim=1, keepdim=True)\n",
        "    dataset = torch.where(norms > 0, dataset / norms, dataset)\n",
        "    return dataset"
      ],
      "metadata": {
        "id": "yXisrvu8akGA"
      },
      "execution_count": null,
      "outputs": []
    },
    {
      "cell_type": "markdown",
      "source": [
        "- `n`: input dimension\n",
        "- `m`: hidden dimension"
      ],
      "metadata": {
        "id": "cH7NDlkgc1St"
      }
    },
    {
      "cell_type": "code",
      "source": [
        "class ToyModel(nn.Module):\n",
        "    def __init__(self, n: int, m: int):\n",
        "        super().__init__()\n",
        "        self.hidden = nn.Linear(n, m)\n",
        "        self.relu = nn.ReLU()\n",
        "        self.output = nn.Linear(m, n)\n",
        "\n",
        "        nn.init.xavier_uniform_(self.hidden.weight)\n",
        "        nn.init.xavier_uniform_(self.output.weight)\n",
        "        nn.init.zeros_(self.hidden.bias)\n",
        "        nn.init.zeros_(self.output.bias)\n",
        "\n",
        "    def forward(self, x):\n",
        "        h = self.hidden(x)\n",
        "        h = self.relu(h)\n",
        "        logits = self.output(h)\n",
        "        return logits"
      ],
      "metadata": {
        "id": "hTaz0XWAcjs4"
      },
      "execution_count": null,
      "outputs": []
    },
    {
      "cell_type": "code",
      "source": [
        "def generate_dataset_and_train_toy_model(T: int, n: int, S: float, m: int) -> tuple[torch.Tensor, ToyModel]:\n",
        "\n",
        "    # Setup learning params\n",
        "    batch_size = T  # full batch\n",
        "    num_updates = 50000  # epochs\n",
        "    warmup_steps = 2500\n",
        "\n",
        "    learning_rate = 1e-3\n",
        "    weight_decay = 1e-2\n",
        "\n",
        "    def lr_lambda(current_step: int):\n",
        "        if current_step < warmup_steps:\n",
        "            return current_step / warmup_steps\n",
        "        else:\n",
        "            return 1.0\n",
        "\n",
        "\n",
        "    # Create data and model\n",
        "    loss_fn = nn.MSELoss()\n",
        "    model = ToyModel(n, m).to(device)\n",
        "    dataset = generate_dataset(T, n, S).to(device)\n",
        "    optimizer = AdamW(\n",
        "        model.parameters(),\n",
        "        lr=learning_rate,\n",
        "        weight_decay=weight_decay\n",
        "    )\n",
        "    scheduler = LambdaLR(optimizer, lr_lambda=lr_lambda)\n",
        "\n",
        "\n",
        "    run = wandb.init(\n",
        "        project=\"toy-superposition\",\n",
        "        config={\n",
        "            \"learning_rate\": learning_rate,\n",
        "            \"weight_decay\": weight_decay,\n",
        "            \"warmup_steps\": warmup_steps,\n",
        "            \"batch_size\": batch_size,\n",
        "            \"epochs\": num_updates,\n",
        "            \"T\": T,\n",
        "            \"n\": n,\n",
        "            \"S\": S,\n",
        "            \"m\": m,\n",
        "        },\n",
        "    )\n",
        "\n",
        "\n",
        "    # Train the model\n",
        "    inputs = dataset\n",
        "    for step in range(num_updates):\n",
        "        optimizer.zero_grad()\n",
        "\n",
        "        outputs = model(inputs)\n",
        "        loss = loss_fn(outputs, inputs)\n",
        "\n",
        "        loss.backward()\n",
        "        optimizer.step()\n",
        "        scheduler.step()\n",
        "\n",
        "        wandb.log({\"loss\": loss})\n",
        "\n",
        "\n",
        "    # Provide the generated dataset and model\n",
        "    return dataset, model"
      ],
      "metadata": {
        "id": "lPVNTEPtoi6j"
      },
      "execution_count": null,
      "outputs": []
    },
    {
      "cell_type": "code",
      "source": [
        "import matplotlib.pyplot as plt\n",
        "\n",
        "def plot_vectors(displayed_vectors, title):\n",
        "    plt.figure(figsize=(4, 4))\n",
        "    origin = [0], [0]\n",
        "\n",
        "    x_values = [vector[0] for vector in displayed_vectors]\n",
        "    y_values = [vector[1] for vector in displayed_vectors]\n",
        "    x_min, x_max = min(x_values), max(x_values)\n",
        "    y_min, y_max = min(y_values), max(y_values)\n",
        "    overall_max = max(abs(x_min), abs(x_max), abs(y_min), abs(y_max))\n",
        "\n",
        "    for vector in displayed_vectors:\n",
        "        plt.quiver(*origin, vector[0], vector[1], angles='xy', scale_units='xy', scale=1, color=\"b\", alpha=0.6)\n",
        "\n",
        "    plt.xlim(-overall_max, overall_max)\n",
        "    plt.ylim(-overall_max, overall_max)\n",
        "    plt.title(title)\n",
        "    plt.grid()\n",
        "    plt.axhline(0, color='grey', lw=0.5)\n",
        "    plt.axvline(0, color='grey', lw=0.5)\n",
        "\n",
        "    plt.show()"
      ],
      "metadata": {
        "id": "PDCFUZZdjoR_"
      },
      "execution_count": null,
      "outputs": []
    },
    {
      "cell_type": "code",
      "source": [
        "T = 50000\n",
        "n = 10000\n",
        "S = 0.999\n",
        "m = 2\n",
        "\n",
        "dataset, model = generate_dataset_and_train_toy_model(T, n, S, m)"
      ],
      "metadata": {
        "colab": {
          "base_uri": "https://localhost:8080/",
          "height": 1000,
          "referenced_widgets": [
            "51cc29e921fb4563b77bf740c3711183",
            "f1c5f78005274ac5b51a819998bf0c5f",
            "4fec26ac2230482b8c6580eeb0c956c8",
            "ba4b458cb5ea4919a3faea21d546e76c",
            "3c633abbd42e495686e27cc8569b0480",
            "685b6004c0ad4e20b0797c14ce3e6bd1",
            "55c0f08226af455383f338550b2ca40a",
            "3b899d9c2cd74f2c92eef00674595a7e"
          ]
        },
        "id": "KNCovD5Jdn02",
        "outputId": "50a5d678-8640-4665-a2ae-2f4dc646bfd1"
      },
      "execution_count": null,
      "outputs": [
        {
          "data": {
            "text/html": [
              "Finishing last run (ID:2l9hpmfq) before initializing another..."
            ],
            "text/plain": [
              "<IPython.core.display.HTML object>"
            ]
          },
          "metadata": {},
          "output_type": "display_data"
        },
        {
          "data": {
            "application/vnd.jupyter.widget-view+json": {
              "model_id": "51cc29e921fb4563b77bf740c3711183",
              "version_major": 2,
              "version_minor": 0
            },
            "text/plain": [
              "VBox(children=(Label(value='0.014 MB of 0.014 MB uploaded\\r'), FloatProgress(value=1.0, max=1.0)))"
            ]
          },
          "metadata": {},
          "output_type": "display_data"
        },
        {
          "data": {
            "text/html": [
              "<style>\n",
              "    table.wandb td:nth-child(1) { padding: 0 10px; text-align: left ; width: auto;} td:nth-child(2) {text-align: left ; width: 100%}\n",
              "    .wandb-row { display: flex; flex-direction: row; flex-wrap: wrap; justify-content: flex-start; width: 100% }\n",
              "    .wandb-col { display: flex; flex-direction: column; flex-basis: 100%; flex: 1; padding: 10px; }\n",
              "    </style>\n",
              "<div class=\"wandb-row\"><div class=\"wandb-col\"><h3>Run history:</h3><br/><table class=\"wandb\"><tr><td>loss</td><td>█▅▂▁▁▁▁▁▁▁▁▁▁▁▁▁▁▁▁▁▁▁▁▁▁▁▁▁▁▁▁▁▁▁▁▁▁▁▁▁</td></tr></table><br/></div><div class=\"wandb-col\"><h3>Run summary:</h3><br/><table class=\"wandb\"><tr><td>loss</td><td>7e-05</td></tr></table><br/></div></div>"
            ],
            "text/plain": [
              "<IPython.core.display.HTML object>"
            ]
          },
          "metadata": {},
          "output_type": "display_data"
        },
        {
          "data": {
            "text/html": [
              " View run <strong style=\"color:#cdcd00\">fresh-brook-1</strong> at: <a href='https://wandb.ai/bew111/toy-superposition/runs/2l9hpmfq' target=\"_blank\">https://wandb.ai/bew111/toy-superposition/runs/2l9hpmfq</a><br/> View project at: <a href='https://wandb.ai/bew111/toy-superposition' target=\"_blank\">https://wandb.ai/bew111/toy-superposition</a><br/>Synced 5 W&B file(s), 0 media file(s), 0 artifact file(s) and 0 other file(s)"
            ],
            "text/plain": [
              "<IPython.core.display.HTML object>"
            ]
          },
          "metadata": {},
          "output_type": "display_data"
        },
        {
          "data": {
            "text/html": [
              "Find logs at: <code>./wandb/run-20241106_181935-2l9hpmfq/logs</code>"
            ],
            "text/plain": [
              "<IPython.core.display.HTML object>"
            ]
          },
          "metadata": {},
          "output_type": "display_data"
        },
        {
          "data": {
            "text/html": [
              "Successfully finished last run (ID:2l9hpmfq). Initializing new run:<br/>"
            ],
            "text/plain": [
              "<IPython.core.display.HTML object>"
            ]
          },
          "metadata": {},
          "output_type": "display_data"
        },
        {
          "data": {
            "text/html": [
              "Tracking run with wandb version 0.18.5"
            ],
            "text/plain": [
              "<IPython.core.display.HTML object>"
            ]
          },
          "metadata": {},
          "output_type": "display_data"
        },
        {
          "data": {
            "text/html": [
              "Run data is saved locally in <code>/content/wandb/run-20241106_182332-abqk2rvw</code>"
            ],
            "text/plain": [
              "<IPython.core.display.HTML object>"
            ]
          },
          "metadata": {},
          "output_type": "display_data"
        },
        {
          "data": {
            "text/html": [
              "Syncing run <strong><a href='https://wandb.ai/bew111/toy-superposition/runs/abqk2rvw' target=\"_blank\">young-fire-2</a></strong> to <a href='https://wandb.ai/bew111/toy-superposition' target=\"_blank\">Weights & Biases</a> (<a href='https://wandb.me/run' target=\"_blank\">docs</a>)<br/>"
            ],
            "text/plain": [
              "<IPython.core.display.HTML object>"
            ]
          },
          "metadata": {},
          "output_type": "display_data"
        },
        {
          "data": {
            "text/html": [
              " View project at <a href='https://wandb.ai/bew111/toy-superposition' target=\"_blank\">https://wandb.ai/bew111/toy-superposition</a>"
            ],
            "text/plain": [
              "<IPython.core.display.HTML object>"
            ]
          },
          "metadata": {},
          "output_type": "display_data"
        },
        {
          "data": {
            "text/html": [
              " View run at <a href='https://wandb.ai/bew111/toy-superposition/runs/abqk2rvw' target=\"_blank\">https://wandb.ai/bew111/toy-superposition/runs/abqk2rvw</a>"
            ],
            "text/plain": [
              "<IPython.core.display.HTML object>"
            ]
          },
          "metadata": {},
          "output_type": "display_data"
        },
        {
          "output_type": "stream",
          "name": "stdout",
          "text": [
            "Step 0/50000, Loss: 0.00010003703937400132\n",
            "Step 1000/50000, Loss: 9.991992556024343e-05\n",
            "Step 2000/50000, Loss: 9.991961997002363e-05\n",
            "Step 3000/50000, Loss: 9.991879051085562e-05\n",
            "Step 4000/50000, Loss: 9.991391561925411e-05\n",
            "Step 5000/50000, Loss: 9.989814134314656e-05\n",
            "Step 6000/50000, Loss: 9.988839883590117e-05\n",
            "Step 7000/50000, Loss: 9.988406236516312e-05\n",
            "Step 8000/50000, Loss: 9.9881952337455e-05\n",
            "Step 9000/50000, Loss: 9.988078090827912e-05\n",
            "Step 10000/50000, Loss: 9.988004603656009e-05\n",
            "Step 11000/50000, Loss: 9.987951489165425e-05\n",
            "Step 12000/50000, Loss: 9.987910743802786e-05\n",
            "Step 13000/50000, Loss: 9.98787727439776e-05\n",
            "Step 14000/50000, Loss: 9.98785108095035e-05\n",
            "Step 15000/50000, Loss: 9.987827797885984e-05\n",
            "Step 16000/50000, Loss: 9.987807425204664e-05\n",
            "Step 17000/50000, Loss: 9.987789235310629e-05\n",
            "Step 18000/50000, Loss: 9.987773228203878e-05\n",
            "Step 19000/50000, Loss: 9.987757948692888e-05\n",
            "Step 20000/50000, Loss: 9.987744851969182e-05\n",
            "Step 21000/50000, Loss: 9.987731755245477e-05\n",
            "Step 22000/50000, Loss: 9.987720113713294e-05\n",
            "Step 23000/50000, Loss: 9.98770774458535e-05\n",
            "Step 24000/50000, Loss: 9.98769755824469e-05\n",
            "Step 25000/50000, Loss: 9.98768737190403e-05\n",
            "Step 26000/50000, Loss: 9.98767718556337e-05\n",
            "Step 27000/50000, Loss: 9.987668454414234e-05\n",
            "Step 28000/50000, Loss: 9.987658995669335e-05\n",
            "Step 29000/50000, Loss: 9.98765099211596e-05\n",
            "Step 30000/50000, Loss: 9.987645171349868e-05\n",
            "Step 31000/50000, Loss: 9.987637167796493e-05\n",
            "Step 32000/50000, Loss: 9.98763061943464e-05\n",
            "Step 33000/50000, Loss: 9.98762552626431e-05\n",
            "Step 34000/50000, Loss: 9.987621160689741e-05\n",
            "Step 35000/50000, Loss: 9.98761533992365e-05\n",
            "Step 36000/50000, Loss: 9.987612429540604e-05\n",
            "Step 37000/50000, Loss: 9.987606608774513e-05\n",
            "Step 38000/50000, Loss: 9.987603698391467e-05\n",
            "Step 39000/50000, Loss: 9.987600788008422e-05\n",
            "Step 40000/50000, Loss: 9.987596422433853e-05\n",
            "Step 41000/50000, Loss: 9.98759496724233e-05\n",
            "Step 42000/50000, Loss: 9.987592056859285e-05\n",
            "Step 43000/50000, Loss: 9.987589874072e-05\n",
            "Step 44000/50000, Loss: 9.987586963688955e-05\n",
            "Step 45000/50000, Loss: 9.987585508497432e-05\n",
            "Step 46000/50000, Loss: 9.987583325710148e-05\n",
            "Step 47000/50000, Loss: 9.987581142922863e-05\n",
            "Step 48000/50000, Loss: 9.987580415327102e-05\n",
            "Step 49000/50000, Loss: 9.987578960135579e-05\n"
          ]
        }
      ]
    },
    {
      "cell_type": "code",
      "source": [
        "weight_vector = model.hidden.weight.detach().cpu().numpy()\n",
        "plot_vectors(weight_vector.T, title=\"Hidden Layer Weights\")"
      ],
      "metadata": {
        "colab": {
          "base_uri": "https://localhost:8080/",
          "height": 391
        },
        "id": "jc-WBex3l_QZ",
        "outputId": "b194c96b-10ff-40eb-9f91-630762dd6d3e"
      },
      "execution_count": null,
      "outputs": [
        {
          "output_type": "display_data",
          "data": {
            "text/plain": [
              "<Figure size 400x400 with 1 Axes>"
            ],
            "image/png": "[encoded data removed]"
          },
          "metadata": {}
        }
      ]
    },
    {
      "cell_type": "code",
      "source": [
        "X = dataset.cpu().numpy()\n",
        "training_set_hidden_vectors = (X @ weight_vector.T)\n",
        "plot_vectors(training_set_hidden_vectors, title=\"Training Set Hidden Vectors\")"
      ],
      "metadata": {
        "colab": {
          "base_uri": "https://localhost:8080/",
          "height": 391
        },
        "id": "YV7qHkktkErr",
        "outputId": "0c27aaa0-06f3-4e0d-c84f-111e00120431"
      },
      "execution_count": null,
      "outputs": [
        {
          "output_type": "display_data",
          "data": {
            "text/plain": [
              "<Figure size 400x400 with 1 Axes>"
            ],
            "image/png": "[encoded data removed]"
          },
          "metadata": {}
        }
      ]
    },
    {
      "cell_type": "code",
      "source": [],
      "metadata": {
        "id": "t0N_8Msune_u"
      },
      "execution_count": null,
      "outputs": []
    }
  ]
}